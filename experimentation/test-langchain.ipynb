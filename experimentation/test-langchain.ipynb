{
 "cells": [
  {
   "cell_type": "code",
   "execution_count": 2,
   "metadata": {},
   "outputs": [],
   "source": [
    "import os, pickle\n",
    "from dotenv import load_dotenv\n",
    "load_dotenv()\n",
    "api_key = os.environ['openai_key']"
   ]
  },
  {
   "cell_type": "code",
   "execution_count": 3,
   "metadata": {},
   "outputs": [],
   "source": [
    "from langchain.prompts import ChatPromptTemplate\n",
    "from langchain.chat_models import ChatOpenAI"
   ]
  },
  {
   "cell_type": "code",
   "execution_count": 4,
   "metadata": {},
   "outputs": [],
   "source": [
    "# Read in test data\n",
    "with open('../data/sample_messages.pkl', 'rb') as file:\n",
    "    messages = pickle.load(file)\n",
    "\n",
    "# Filter for empty messages\n",
    "messages = filter(lambda x: x['message'], messages)\n",
    "# format messages like \"<sender>: <text>\"\n",
    "formatted_messages = list(map(lambda x: f\"<U>{x['sender']}</U>: {x['message']}\", messages))\n",
    "# Rearrange in correct order\n",
    "formatted_messages = formatted_messages[::-1]"
   ]
  },
  {
   "cell_type": "code",
   "execution_count": 5,
   "metadata": {},
   "outputs": [],
   "source": [
    "system_message = \"\"\"\n",
    "You will be given excerpts of messages from a group chat. \n",
    "\n",
    "The name of the user who sent a message is between the <U> </U> tags. \n",
    "\n",
    "Your task is to summarize the various conversations that took place in the group chat. For each conversation write a short summary of the points raised. \n",
    "\"\"\"\n",
    "\n",
    "user_example = \"\"\"\n",
    "<U>David</U>: Wow the weather is really warm today\n",
    "<U>David</U>: What are ya'll doing today pals. I'm going to cycling hohoho.\n",
    "<U>James</U>: Ya sia today damn hot. Sweating like a dog bruh\n",
    "<U>James</U>: Going out with my parents for lunch then watching a movie with YZ\n",
    "<U>James</U>: WBU\n",
    "<U>Gordon</U>: Ya it's too hot already. I need the aircon. \n",
    "<U>Gordon</U>: Man is going to study today. I got my final exam next week\n",
    "<U>Gordon</U>: Can't wait to go out hahaha\n",
    "\"\"\"\n",
    "\n",
    "ai_example = \"Everyone agrees the weather is extremely warm.\\n\\nDavid is going to spend the day cycling, James is lunching with his parents then watching a movie with YZ, and Gordon is studying for his final exams next week.\""
   ]
  },
  {
   "cell_type": "code",
   "execution_count": 6,
   "metadata": {},
   "outputs": [],
   "source": [
    "chat_template = ChatPromptTemplate.from_messages(\n",
    "    [\n",
    "        (\"system\", system_message),\n",
    "        (\"human\", user_example),\n",
    "        (\"ai\", ai_example),\n",
    "        (\"human\", \"{user_input}\"),\n",
    "    ]\n",
    ")"
   ]
  },
  {
   "cell_type": "code",
   "execution_count": 7,
   "metadata": {},
   "outputs": [],
   "source": [
    "prompt = \"\\n\".join(formatted_messages)"
   ]
  },
  {
   "cell_type": "code",
   "execution_count": 8,
   "metadata": {},
   "outputs": [],
   "source": [
    "prompt_input = chat_template.format_messages(user_input=prompt)"
   ]
  },
  {
   "cell_type": "code",
   "execution_count": 9,
   "metadata": {},
   "outputs": [],
   "source": [
    "llm = ChatOpenAI(\n",
    "    model_name = 'gpt-4'\n",
    "    , openai_api_key = api_key\n",
    ")"
   ]
  },
  {
   "cell_type": "code",
   "execution_count": 10,
   "metadata": {},
   "outputs": [],
   "source": [
    "response = llm(prompt_input)"
   ]
  },
  {
   "cell_type": "code",
   "execution_count": 13,
   "metadata": {},
   "outputs": [
    {
     "ename": "ModuleNotFoundError",
     "evalue": "No module named 'pytz'",
     "output_type": "error",
     "traceback": [
      "\u001b[0;31m---------------------------------------------------------------------------\u001b[0m",
      "\u001b[0;31mModuleNotFoundError\u001b[0m                       Traceback (most recent call last)",
      "\u001b[1;32m/Users/carelchay/git_projects/summary-bot/experimentation/test-langchain.ipynb Cell 11\u001b[0m line \u001b[0;36m1\n\u001b[0;32m----> <a href='vscode-notebook-cell:/Users/carelchay/git_projects/summary-bot/experimentation/test-langchain.ipynb#X13sZmlsZQ%3D%3D?line=0'>1</a>\u001b[0m \u001b[39mimport\u001b[39;00m \u001b[39mpytz\u001b[39;00m\n",
      "\u001b[0;31mModuleNotFoundError\u001b[0m: No module named 'pytz'"
     ]
    }
   ],
   "source": [
    "import pytz"
   ]
  },
  {
   "cell_type": "code",
   "execution_count": 14,
   "metadata": {},
   "outputs": [],
   "source": [
    "import re"
   ]
  },
  {
   "cell_type": "code",
   "execution_count": 21,
   "metadata": {},
   "outputs": [],
   "source": [
    "pattern = r'last (\\d+) hours'\n",
    "match = re.search(pattern, \"@kmsum23 summarize last 24 hours\")"
   ]
  },
  {
   "cell_type": "code",
   "execution_count": 22,
   "metadata": {},
   "outputs": [
    {
     "data": {
      "text/plain": [
       "'24'"
      ]
     },
     "execution_count": 22,
     "metadata": {},
     "output_type": "execute_result"
    }
   ],
   "source": [
    "match.group(1)"
   ]
  },
  {
   "cell_type": "code",
   "execution_count": 28,
   "metadata": {},
   "outputs": [],
   "source": [
    "import pandas as pd\n",
    "tdf = pd.read_csv(\"../data/chat_whitelist.csv\",)"
   ]
  },
  {
   "cell_type": "code",
   "execution_count": 29,
   "metadata": {},
   "outputs": [
    {
     "data": {
      "text/plain": [
       "[-1002060073951, -4020519896]"
      ]
     },
     "execution_count": 29,
     "metadata": {},
     "output_type": "execute_result"
    }
   ],
   "source": [
    "tdf['chat_id'].values.tolist()"
   ]
  },
  {
   "cell_type": "code",
   "execution_count": 30,
   "metadata": {},
   "outputs": [],
   "source": [
    "import datetime, pytz"
   ]
  },
  {
   "cell_type": "code",
   "execution_count": 32,
   "metadata": {},
   "outputs": [],
   "source": [
    "try:\n",
    "    cutoff_time = datetime.datetime.utcnow() - datetime.timedelta(hours=5)\n",
    "except TypeError as e:\n",
    "    print(f\"{e}\\n\\nExpected an integer\")\n",
    "# Create a timezone object for UTC\n",
    "utc_timezone = pytz.timezone('UTC')\n",
    "# Make the datetime object aware of the UTC timezone\n",
    "cutoff_time = utc_timezone.localize(cutoff_time)"
   ]
  },
  {
   "cell_type": "code",
   "execution_count": 34,
   "metadata": {},
   "outputs": [
    {
     "data": {
      "text/plain": [
       "datetime.datetime"
      ]
     },
     "execution_count": 34,
     "metadata": {},
     "output_type": "execute_result"
    }
   ],
   "source": [
    "type(cutoff_time)"
   ]
  },
  {
   "cell_type": "code",
   "execution_count": null,
   "metadata": {},
   "outputs": [],
   "source": []
  }
 ],
 "metadata": {
  "kernelspec": {
   "display_name": "py_chatbot",
   "language": "python",
   "name": "python3"
  },
  "language_info": {
   "codemirror_mode": {
    "name": "ipython",
    "version": 3
   },
   "file_extension": ".py",
   "mimetype": "text/x-python",
   "name": "python",
   "nbconvert_exporter": "python",
   "pygments_lexer": "ipython3",
   "version": "3.11.1"
  }
 },
 "nbformat": 4,
 "nbformat_minor": 2
}
