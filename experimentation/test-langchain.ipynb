{
 "cells": [
  {
   "cell_type": "code",
   "execution_count": 1,
   "metadata": {},
   "outputs": [],
   "source": [
    "import os, pickle\n",
    "from dotenv import load_dotenv\n",
    "load_dotenv()\n",
    "api_key = os.environ['openai_key']"
   ]
  },
  {
   "cell_type": "code",
   "execution_count": 15,
   "metadata": {},
   "outputs": [],
   "source": [
    "from langchain.prompts import ChatPromptTemplate\n",
    "from langchain.chat_models import ChatOpenAI"
   ]
  },
  {
   "cell_type": "code",
   "execution_count": 3,
   "metadata": {},
   "outputs": [],
   "source": [
    "# Read in test data\n",
    "with open('../data/sample_messages.pkl', 'rb') as file:\n",
    "    messages = pickle.load(file)\n",
    "\n",
    "# Filter for empty messages\n",
    "messages = filter(lambda x: x['message'], messages)\n",
    "# format messages like \"<sender>: <text>\"\n",
    "formatted_messages = list(map(lambda x: f\"<U>{x['sender']}</U>: {x['message']}\", messages))\n",
    "# Rearrange in correct order\n",
    "formatted_messages = formatted_messages[::-1]"
   ]
  },
  {
   "cell_type": "code",
   "execution_count": 4,
   "metadata": {},
   "outputs": [],
   "source": [
    "system_message = \"\"\"\n",
    "You will be given excerpts of messages from a group chat. \n",
    "\n",
    "The name of the user who sent a message is between the <U> </U> tags. \n",
    "\n",
    "Your task is to summarize the various conversations that took place in the group chat. For each conversation write a short summary of the points raised. \n",
    "\"\"\"\n",
    "\n",
    "user_example = \"\"\"\n",
    "<U>David</U>: Wow the weather is really warm today\n",
    "<U>David</U>: What are ya'll doing today pals. I'm going to cycling hohoho.\n",
    "<U>James</U>: Ya sia today damn hot. Sweating like a dog bruh\n",
    "<U>James</U>: Going out with my parents for lunch then watching a movie with YZ\n",
    "<U>James</U>: WBU\n",
    "<U>Gordon</U>: Ya it's too hot already. I need the aircon. \n",
    "<U>Gordon</U>: Man is going to study today. I got my final exam next week\n",
    "<U>Gordon</U>: Can't wait to go out hahaha\n",
    "\"\"\"\n",
    "\n",
    "ai_example = \"Everyone agrees the weather is extremely warm.\\n\\nDavid is going to spend the day cycling, James is lunching with his parents then watching a movie with YZ, and Gordon is studying for his final exams next week.\""
   ]
  },
  {
   "cell_type": "code",
   "execution_count": 25,
   "metadata": {},
   "outputs": [],
   "source": [
    "chat_template = ChatPromptTemplate.from_messages(\n",
    "    [\n",
    "        (\"system\", system_message),\n",
    "        (\"human\", user_example),\n",
    "        (\"ai\", ai_example),\n",
    "        (\"human\", \"{user_input}\"),\n",
    "    ]\n",
    ")"
   ]
  },
  {
   "cell_type": "code",
   "execution_count": 26,
   "metadata": {},
   "outputs": [],
   "source": [
    "prompt = \"\\n\".join(formatted_messages)"
   ]
  },
  {
   "cell_type": "code",
   "execution_count": 27,
   "metadata": {},
   "outputs": [],
   "source": [
    "prompt_input = chat_template.format_messages(user_input=prompt)"
   ]
  },
  {
   "cell_type": "code",
   "execution_count": 28,
   "metadata": {},
   "outputs": [],
   "source": [
    "llm = ChatOpenAI(\n",
    "    model_name = 'gpt-4'\n",
    "    , openai_api_key = api_key\n",
    ")"
   ]
  },
  {
   "cell_type": "code",
   "execution_count": 29,
   "metadata": {},
   "outputs": [],
   "source": [
    "response = llm(prompt_input)"
   ]
  },
  {
   "cell_type": "code",
   "execution_count": null,
   "metadata": {},
   "outputs": [],
   "source": []
  }
 ],
 "metadata": {
  "kernelspec": {
   "display_name": "py_chatbot",
   "language": "python",
   "name": "python3"
  },
  "language_info": {
   "codemirror_mode": {
    "name": "ipython",
    "version": 3
   },
   "file_extension": ".py",
   "mimetype": "text/x-python",
   "name": "python",
   "nbconvert_exporter": "python",
   "pygments_lexer": "ipython3",
   "version": "3.11.1"
  }
 },
 "nbformat": 4,
 "nbformat_minor": 2
}
