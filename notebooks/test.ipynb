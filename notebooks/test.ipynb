{
 "cells": [
  {
   "cell_type": "code",
   "execution_count": 2,
   "metadata": {},
   "outputs": [
    {
     "name": "stdout",
     "output_type": "stream",
     "text": [
      "123\n",
      "234\n",
      "User(can_join_groups=True, can_read_all_group_messages=True, first_name='KevinMaloneBot', id=6430647573, is_bot=True, supports_inline_queries=False, username='KevinMaloneBot')\n"
     ]
    }
   ],
   "source": [
    "import asyncio\n",
    "import telegram\n",
    "\n",
    "from dotenv import load_dotenv\n",
    "import os\n",
    "load_dotenv()\n",
    "# Load Bot Token\n",
    "bot_token=os.environ.get(\"KevinMaloneBot_Token\")\n",
    "\n",
    "async def check_bot(token):\n",
    "    \"\"\"\n",
    "    Checks the validity of a given bot token\n",
    "    \"\"\"\n",
    "    bot = telegram.Bot(token)\n",
    "    async with bot:\n",
    "        # bot info\n",
    "        bot_info = asyncio.create_task(bot.get_me())\n",
    "        bot_info = await bot_info\n",
    "        print(123)\n",
    "        await asyncio.sleep(2)\n",
    "    print(234)\n",
    "    return bot_info\n",
    "\n",
    "done = await check_bot(bot_token)\n",
    "print(done)\n"
   ]
  },
  {
   "cell_type": "code",
   "execution_count": 3,
   "metadata": {},
   "outputs": [
    {
     "data": {
      "text/plain": [
       "telegram._user.User"
      ]
     },
     "execution_count": 3,
     "metadata": {},
     "output_type": "execute_result"
    }
   ],
   "source": [
    "type(done)"
   ]
  },
  {
   "cell_type": "code",
   "execution_count": null,
   "metadata": {},
   "outputs": [],
   "source": []
  }
 ],
 "metadata": {
  "kernelspec": {
   "display_name": "py_chatbot",
   "language": "python",
   "name": "python3"
  },
  "language_info": {
   "codemirror_mode": {
    "name": "ipython",
    "version": 3
   },
   "file_extension": ".py",
   "mimetype": "text/x-python",
   "name": "python",
   "nbconvert_exporter": "python",
   "pygments_lexer": "ipython3",
   "version": "3.11.1"
  }
 },
 "nbformat": 4,
 "nbformat_minor": 2
}
